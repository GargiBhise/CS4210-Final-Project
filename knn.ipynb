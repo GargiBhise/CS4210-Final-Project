{
 "cells": [
  {
   "cell_type": "markdown",
   "id": "ca4394d7",
   "metadata": {},
   "source": [
    "# K Nearest Neighbors\n",
    "Author: Tommy James"
   ]
  },
  {
   "cell_type": "code",
   "execution_count": 5,
   "id": "b2e29c2a",
   "metadata": {},
   "outputs": [],
   "source": [
    "# Import needed packages for classification\n",
    "from sklearn.neighbors import KNeighborsClassifier\n",
    "import pandas as pd\n",
    "import numpy as np\n",
    "from sklearn.preprocessing import StandardScaler\n",
    "\n",
    "# Import packages for visualization of results\n",
    "import seaborn as sns\n",
    "import matplotlib.pyplot as plt\n",
    "from sklearn import preprocessing\n",
    "from matplotlib.colors import ListedColormap\n",
    "\n",
    "# Iport packages for evaluation\n",
    "from sklearn.model_selection import train_test_split\n",
    "from sklearn import metrics"
   ]
  },
  {
   "cell_type": "code",
   "execution_count": 6,
   "id": "8cab2edb",
   "metadata": {},
   "outputs": [
    {
     "name": "stdout",
     "output_type": "stream",
     "text": [
      "max accuracy: 0.9649122807017544\n",
      "n_neighbors = 15\n",
      "true positives: 41\n",
      "false positives: 2\n",
      "true negatives: 69\n",
      "false negatives: 2\n",
      "\n"
     ]
    }
   ],
   "source": [
    "# Train models with n_neighbors 1 to 15\n",
    "# Find the maximum accuracy \n",
    "# Print accuracy, n_neighbors, and the confusion matrix\n",
    "\n",
    "max_acc = 0\n",
    "n = 0\n",
    "conf_matrix = []\n",
    "\n",
    "for i in range(1, 16):\n",
    "    knnClassifier = KNeighborsClassifier(n_neighbors=i)\n",
    "\n",
    "    # Scale data\n",
    "    scaler = StandardScaler()\n",
    "    X_train_scaled = scaler.fit_transform(X_train)\n",
    "\n",
    "    # Train model and make predictions for the test set\n",
    "    knnClassifier.fit(X_train_scaled, np.ravel(y_train))\n",
    "    y_pred = knnClassifier.predict(scaler.transform(X_test))\n",
    "\n",
    "    acc = metrics.accuracy_score(y_pred, y_test)\n",
    "\n",
    "    if acc > max_acc:\n",
    "        max_acc = acc\n",
    "        n = i\n",
    "        tn, fp, fn, tp = metrics.confusion_matrix(y_pred, y_test).ravel()\n",
    "\n",
    "# Compute metrics\n",
    "print(f'max accuracy: {max_acc}')\n",
    "print(f'n_neighbors = {i}')\n",
    "print(f'true positives: {tp}')\n",
    "print(f'false positives: {fp}')\n",
    "print(f'true negatives: {tn}')\n",
    "print(f'false negatives: {fn}')\n",
    "print()"
   ]
  }
 ],
 "metadata": {
  "kernelspec": {
   "display_name": "Python 3 (ipykernel)",
   "language": "python",
   "name": "python3"
  },
  "language_info": {
   "codemirror_mode": {
    "name": "ipython",
    "version": 3
   },
   "file_extension": ".py",
   "mimetype": "text/x-python",
   "name": "python",
   "nbconvert_exporter": "python",
   "pygments_lexer": "ipython3",
   "version": "3.10.9"
  }
 },
 "nbformat": 4,
 "nbformat_minor": 5
}
